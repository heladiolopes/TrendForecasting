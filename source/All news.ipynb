{
 "cells": [
  {
   "cell_type": "code",
   "execution_count": 1,
   "metadata": {},
   "outputs": [
    {
     "name": "stderr",
     "output_type": "stream",
     "text": [
      "[nltk_data] Downloading package wordnet to\n",
      "[nltk_data]     C:\\Users\\helad\\AppData\\Roaming\\nltk_data...\n",
      "[nltk_data]   Package wordnet is already up-to-date!\n"
     ]
    },
    {
     "data": {
      "text/plain": [
       "True"
      ]
     },
     "execution_count": 1,
     "metadata": {},
     "output_type": "execute_result"
    }
   ],
   "source": [
    "import re\n",
    "import nltk\n",
    "import codecs\n",
    "import numpy as np\n",
    "import pandas as pd\n",
    "import seaborn as sns\n",
    "%matplotlib inline\n",
    "\n",
    "import gensim\n",
    "from gensim.utils import simple_preprocess\n",
    "from gensim.parsing.preprocessing import STOPWORDS\n",
    "from nltk.stem import WordNetLemmatizer, SnowballStemmer\n",
    "from nltk.stem.porter import *\n",
    "import numpy as np\n",
    "np.random.seed(2018)\n",
    "nltk.download('wordnet')"
   ]
  },
  {
   "cell_type": "markdown",
   "metadata": {},
   "source": [
    "# All News\n",
    "\n",
    "This dataset contains 2.7 million articles from 26 different publications from January 2016 to April 1, 2020.\n",
    "\n",
    "* source: https://components.one/datasets/all-the-news-2-news-articles-dataset/"
   ]
  },
  {
   "cell_type": "markdown",
   "metadata": {},
   "source": [
    "## 1. Acquire data"
   ]
  },
  {
   "cell_type": "code",
   "execution_count": 11,
   "metadata": {},
   "outputs": [],
   "source": [
    "# Reading a sample file\n",
    "news = pd.read_csv(\n",
    "    'all-the-news-2-1.csv', \n",
    "    usecols=['date', 'title', 'article'],\n",
    "    parse_dates=['date'],\n",
    "    nrows=5000\n",
    ")"
   ]
  },
  {
   "cell_type": "code",
   "execution_count": 12,
   "metadata": {},
   "outputs": [],
   "source": [
    "# Concatenate title with article\n",
    "news['document'] = news['title'] + ' ' + news['article']\n",
    "news.drop(['title', 'article'], axis=1, inplace=True)"
   ]
  },
  {
   "cell_type": "code",
   "execution_count": 13,
   "metadata": {},
   "outputs": [],
   "source": [
    "# Drop null\n",
    "news = news.dropna()"
   ]
  },
  {
   "cell_type": "code",
   "execution_count": 14,
   "metadata": {},
   "outputs": [
    {
     "data": {
      "text/html": [
       "<div>\n",
       "<style scoped>\n",
       "    .dataframe tbody tr th:only-of-type {\n",
       "        vertical-align: middle;\n",
       "    }\n",
       "\n",
       "    .dataframe tbody tr th {\n",
       "        vertical-align: top;\n",
       "    }\n",
       "\n",
       "    .dataframe thead th {\n",
       "        text-align: right;\n",
       "    }\n",
       "</style>\n",
       "<table border=\"1\" class=\"dataframe\">\n",
       "  <thead>\n",
       "    <tr style=\"text-align: right;\">\n",
       "      <th></th>\n",
       "      <th>date</th>\n",
       "      <th>document</th>\n",
       "    </tr>\n",
       "  </thead>\n",
       "  <tbody>\n",
       "    <tr>\n",
       "      <th>0</th>\n",
       "      <td>2016-12-09 18:31:00</td>\n",
       "      <td>We should take concerns about the health of li...</td>\n",
       "    </tr>\n",
       "    <tr>\n",
       "      <th>1</th>\n",
       "      <td>2016-10-07 21:26:46</td>\n",
       "      <td>Colts GM Ryan Grigson says Andrew Luck's contr...</td>\n",
       "    </tr>\n",
       "    <tr>\n",
       "      <th>2</th>\n",
       "      <td>2018-01-26 00:00:00</td>\n",
       "      <td>Trump denies report he ordered Mueller fired D...</td>\n",
       "    </tr>\n",
       "    <tr>\n",
       "      <th>3</th>\n",
       "      <td>2019-06-27 00:00:00</td>\n",
       "      <td>France's Sarkozy reveals his 'Passions' but in...</td>\n",
       "    </tr>\n",
       "    <tr>\n",
       "      <th>4</th>\n",
       "      <td>2016-01-27 00:00:00</td>\n",
       "      <td>Paris Hilton: Woman In Black For Uncle Monty's...</td>\n",
       "    </tr>\n",
       "  </tbody>\n",
       "</table>\n",
       "</div>"
      ],
      "text/plain": [
       "                 date                                           document\n",
       "0 2016-12-09 18:31:00  We should take concerns about the health of li...\n",
       "1 2016-10-07 21:26:46  Colts GM Ryan Grigson says Andrew Luck's contr...\n",
       "2 2018-01-26 00:00:00  Trump denies report he ordered Mueller fired D...\n",
       "3 2019-06-27 00:00:00  France's Sarkozy reveals his 'Passions' but in...\n",
       "4 2016-01-27 00:00:00  Paris Hilton: Woman In Black For Uncle Monty's..."
      ]
     },
     "execution_count": 14,
     "metadata": {},
     "output_type": "execute_result"
    }
   ],
   "source": [
    "# Displaying head\n",
    "news.head()"
   ]
  },
  {
   "cell_type": "code",
   "execution_count": 15,
   "metadata": {},
   "outputs": [
    {
     "name": "stdout",
     "output_type": "stream",
     "text": [
      "(4987, 2)\n",
      "Min: 2016-01-02 00:00:00 | Max: 2019-07-12 00:00:00\n"
     ]
    }
   ],
   "source": [
    "print(news.shape)\n",
    "print('Min:', news.date.min(), '| Max:', news.date.max())"
   ]
  },
  {
   "cell_type": "code",
   "execution_count": 16,
   "metadata": {},
   "outputs": [
    {
     "data": {
      "text/plain": [
       "<matplotlib.axes._subplots.AxesSubplot at 0x197335597c0>"
      ]
     },
     "execution_count": 16,
     "metadata": {},
     "output_type": "execute_result"
    },
    {
     "data": {
      "image/png": "[encoded data removed]",
      "text/plain": [
       "<Figure size 432x288 with 1 Axes>"
      ]
     },
     "metadata": {
      "needs_background": "light"
     },
     "output_type": "display_data"
    }
   ],
   "source": [
    "# Monthly distribution\n",
    "sns.distplot(news.date.dt.year + news.date.dt.month/12 , bins=48, kde=False)"
   ]
  },
  {
   "cell_type": "markdown",
   "metadata": {},
   "source": [
    "## 2. Preprocessing data\n"
   ]
  },
  {
   "cell_type": "markdown",
   "metadata": {},
   "source": [
    "### 2.1. Cleaning the data\n"
   ]
  },
  {
   "cell_type": "code",
   "execution_count": 17,
   "metadata": {},
   "outputs": [
    {
     "data": {
      "text/html": [
       "<div>\n",
       "<style scoped>\n",
       "    .dataframe tbody tr th:only-of-type {\n",
       "        vertical-align: middle;\n",
       "    }\n",
       "\n",
       "    .dataframe tbody tr th {\n",
       "        vertical-align: top;\n",
       "    }\n",
       "\n",
       "    .dataframe thead th {\n",
       "        text-align: right;\n",
       "    }\n",
       "</style>\n",
       "<table border=\"1\" class=\"dataframe\">\n",
       "  <thead>\n",
       "    <tr style=\"text-align: right;\">\n",
       "      <th></th>\n",
       "      <th>date</th>\n",
       "      <th>document</th>\n",
       "    </tr>\n",
       "  </thead>\n",
       "  <tbody>\n",
       "    <tr>\n",
       "      <th>0</th>\n",
       "      <td>2016-12-09 18:31:00</td>\n",
       "      <td>we should take concerns about the health of li...</td>\n",
       "    </tr>\n",
       "    <tr>\n",
       "      <th>1</th>\n",
       "      <td>2016-10-07 21:26:46</td>\n",
       "      <td>colts gm ryan grigson says andrew luck's contr...</td>\n",
       "    </tr>\n",
       "    <tr>\n",
       "      <th>2</th>\n",
       "      <td>2018-01-26 00:00:00</td>\n",
       "      <td>trump denies report he ordered mueller fired d...</td>\n",
       "    </tr>\n",
       "    <tr>\n",
       "      <th>3</th>\n",
       "      <td>2019-06-27 00:00:00</td>\n",
       "      <td>france's sarkozy reveals his 'passions' but in...</td>\n",
       "    </tr>\n",
       "    <tr>\n",
       "      <th>4</th>\n",
       "      <td>2016-01-27 00:00:00</td>\n",
       "      <td>paris hilton  woman in black for uncle monty's...</td>\n",
       "    </tr>\n",
       "  </tbody>\n",
       "</table>\n",
       "</div>"
      ],
      "text/plain": [
       "                 date                                           document\n",
       "0 2016-12-09 18:31:00  we should take concerns about the health of li...\n",
       "1 2016-10-07 21:26:46  colts gm ryan grigson says andrew luck's contr...\n",
       "2 2018-01-26 00:00:00  trump denies report he ordered mueller fired d...\n",
       "3 2019-06-27 00:00:00  france's sarkozy reveals his 'passions' but in...\n",
       "4 2016-01-27 00:00:00  paris hilton  woman in black for uncle monty's..."
      ]
     },
     "execution_count": 17,
     "metadata": {},
     "output_type": "execute_result"
    }
   ],
   "source": [
    "def standardize_text(df, text_field):\n",
    "    df[text_field] = df[text_field].str.replace(r\"http\\S+\", \"\")\n",
    "    df[text_field] = df[text_field].str.replace(r\"http\", \"\")\n",
    "    df[text_field] = df[text_field].str.replace(r\"@\\S+\", \"\")\n",
    "    df[text_field] = df[text_field].str.replace(r\"[^A-Za-z0-9(),!?@\\'\\`\\\"\\_\\n]\", \" \")\n",
    "    df[text_field] = df[text_field].str.replace(r\"@\", \"\")\n",
    "    df[text_field] = df[text_field].str.lower()\n",
    "    return df\n",
    "\n",
    "clean_news = standardize_text(news, \"document\")\n",
    "\n",
    "clean_news.head()"
   ]
  },
  {
   "cell_type": "markdown",
   "metadata": {},
   "source": [
    "### 2.2. Tokenization & Removing Stop Words & Lemmatization"
   ]
  },
  {
   "cell_type": "code",
   "execution_count": 18,
   "metadata": {},
   "outputs": [],
   "source": [
    "# Stemmer\n",
    "def lemmatize_stemming(text):\n",
    "    stemmer = SnowballStemmer('english')\n",
    "    return stemmer.stem(WordNetLemmatizer().lemmatize(text, pos='v'))\n",
    "\n",
    "def preprocess(text):\n",
    "    result = []\n",
    "    for token in gensim.utils.simple_preprocess(text):\n",
    "        if token not in gensim.parsing.preprocessing.STOPWORDS and len(token) > 3:\n",
    "            result.append(lemmatize_stemming(token))\n",
    "    return result"
   ]
  },
  {
   "cell_type": "code",
   "execution_count": 19,
   "metadata": {},
   "outputs": [
    {
     "data": {
      "text/html": [
       "<div>\n",
       "<style scoped>\n",
       "    .dataframe tbody tr th:only-of-type {\n",
       "        vertical-align: middle;\n",
       "    }\n",
       "\n",
       "    .dataframe tbody tr th {\n",
       "        vertical-align: top;\n",
       "    }\n",
       "\n",
       "    .dataframe thead th {\n",
       "        text-align: right;\n",
       "    }\n",
       "</style>\n",
       "<table border=\"1\" class=\"dataframe\">\n",
       "  <thead>\n",
       "    <tr style=\"text-align: right;\">\n",
       "      <th></th>\n",
       "      <th>date</th>\n",
       "      <th>document</th>\n",
       "      <th>tokens</th>\n",
       "    </tr>\n",
       "  </thead>\n",
       "  <tbody>\n",
       "    <tr>\n",
       "      <th>0</th>\n",
       "      <td>2016-12-09 18:31:00</td>\n",
       "      <td>we should take concerns about the health of li...</td>\n",
       "      <td>[concern, health, liber, democraci, serious, p...</td>\n",
       "    </tr>\n",
       "    <tr>\n",
       "      <th>1</th>\n",
       "      <td>2016-10-07 21:26:46</td>\n",
       "      <td>colts gm ryan grigson says andrew luck's contr...</td>\n",
       "      <td>[colt, ryan, grigson, say, andrew, luck, contr...</td>\n",
       "    </tr>\n",
       "    <tr>\n",
       "      <th>2</th>\n",
       "      <td>2018-01-26 00:00:00</td>\n",
       "      <td>trump denies report he ordered mueller fired d...</td>\n",
       "      <td>[trump, deni, report, order, mueller, fire, da...</td>\n",
       "    </tr>\n",
       "    <tr>\n",
       "      <th>3</th>\n",
       "      <td>2019-06-27 00:00:00</td>\n",
       "      <td>france's sarkozy reveals his 'passions' but in...</td>\n",
       "      <td>[franc, sarkozi, reveal, passion, insist, come...</td>\n",
       "    </tr>\n",
       "    <tr>\n",
       "      <th>4</th>\n",
       "      <td>2016-01-27 00:00:00</td>\n",
       "      <td>paris hilton  woman in black for uncle monty's...</td>\n",
       "      <td>[pari, hilton, woman, black, uncl, monti, fune...</td>\n",
       "    </tr>\n",
       "  </tbody>\n",
       "</table>\n",
       "</div>"
      ],
      "text/plain": [
       "                 date                                           document  \\\n",
       "0 2016-12-09 18:31:00  we should take concerns about the health of li...   \n",
       "1 2016-10-07 21:26:46  colts gm ryan grigson says andrew luck's contr...   \n",
       "2 2018-01-26 00:00:00  trump denies report he ordered mueller fired d...   \n",
       "3 2019-06-27 00:00:00  france's sarkozy reveals his 'passions' but in...   \n",
       "4 2016-01-27 00:00:00  paris hilton  woman in black for uncle monty's...   \n",
       "\n",
       "                                              tokens  \n",
       "0  [concern, health, liber, democraci, serious, p...  \n",
       "1  [colt, ryan, grigson, say, andrew, luck, contr...  \n",
       "2  [trump, deni, report, order, mueller, fire, da...  \n",
       "3  [franc, sarkozi, reveal, passion, insist, come...  \n",
       "4  [pari, hilton, woman, black, uncl, monti, fune...  "
      ]
     },
     "execution_count": 19,
     "metadata": {},
     "output_type": "execute_result"
    }
   ],
   "source": [
    "clean_news['tokens'] = clean_news['document'].apply(preprocess)\n",
    "clean_news.head()"
   ]
  },
  {
   "cell_type": "code",
   "execution_count": 21,
   "metadata": {},
   "outputs": [],
   "source": [
    "# Count words by document\n",
    "clean_news['length'] = clean_news.tokens.apply(lambda x: len(x))"
   ]
  },
  {
   "cell_type": "code",
   "execution_count": 24,
   "metadata": {},
   "outputs": [
    {
     "data": {
      "text/plain": [
       "<matplotlib.axes._subplots.AxesSubplot at 0x197577deee0>"
      ]
     },
     "execution_count": 24,
     "metadata": {},
     "output_type": "execute_result"
    },
    {
     "data": {
      "image/png": "[encoded data removed]",
      "text/plain": [
       "<Figure size 432x288 with 1 Axes>"
      ]
     },
     "metadata": {
      "needs_background": "light"
     },
     "output_type": "display_data"
    }
   ],
   "source": [
    "# Length distribution\n",
    "sns.distplot(clean_news.length , bins=100, kde=False)"
   ]
  },
  {
   "cell_type": "markdown",
   "metadata": {},
   "source": [
    "### 2.3. Bag of Words Count"
   ]
  },
  {
   "cell_type": "code",
   "execution_count": 35,
   "metadata": {},
   "outputs": [
    {
     "name": "stdout",
     "output_type": "stream",
     "text": [
      "41940 words in vocabulary\n"
     ]
    }
   ],
   "source": [
    "dictionary = gensim.corpora.Dictionary(clean_news.tokens)\n",
    "\n",
    "count = 0\n",
    "for _ in dictionary.iteritems():\n",
    "    count += 1\n",
    "\n",
    "print('{} words in vocabulary'.format(count))"
   ]
  },
  {
   "cell_type": "code",
   "execution_count": 43,
   "metadata": {},
   "outputs": [],
   "source": [
    "# Bag of words\n",
    "bow_corpus = [dictionary.doc2bow(doc) for doc in clean_news.tokens]"
   ]
  },
  {
   "cell_type": "code",
   "execution_count": 49,
   "metadata": {},
   "outputs": [
    {
     "name": "stdout",
     "output_type": "stream",
     "text": [
      "Word 25 (\"build\") appears 3 time.\n",
      "Word 30 (\"certain\") appears 1 time.\n",
      "Word 41 (\"come\") appears 1 time.\n",
      "Word 60 (\"develop\") appears 1 time.\n"
     ]
    }
   ],
   "source": [
    "# Check an example\n",
    "bow_corpus_1 = bow_corpus[1]\n",
    "\n",
    "for i in range(len(bow_corpus_1))[:4]:\n",
    "    print(\"Word {} (\\\"{}\\\") appears {} time.\".format(bow_corpus_1[i][0], dictionary[bow_corpus_1[i][0]], bow_corpus_1[i][1]))"
   ]
  },
  {
   "cell_type": "markdown",
   "metadata": {},
   "source": [
    "### 2.4. Tf-Idf Model"
   ]
  },
  {
   "cell_type": "code",
   "execution_count": 51,
   "metadata": {},
   "outputs": [],
   "source": [
    "from gensim import corpora, models\n",
    "\n",
    "tfidf = models.TfidfModel(bow_corpus)\n",
    "corpus_tfidf = tfidf[bow_corpus]"
   ]
  },
  {
   "cell_type": "code",
   "execution_count": 54,
   "metadata": {},
   "outputs": [
    {
     "name": "stdout",
     "output_type": "stream",
     "text": [
      "Word 25 (\"build\") has 0.06214 for score.\n",
      "Word 30 (\"certain\") has 0.02363 for score.\n",
      "Word 41 (\"come\") has 0.01009 for score.\n",
      "Word 60 (\"develop\") has 0.02261 for score.\n"
     ]
    }
   ],
   "source": [
    "# Check an example\n",
    "tfidf_corpus_1 = corpus_tfidf[1]\n",
    "\n",
    "for i in range(len(tfidf_corpus_1))[:4]:\n",
    "    print(\"Word {} (\\\"{}\\\") has {:.4} for score.\".format(tfidf_corpus_1[i][0], dictionary[tfidf_corpus_1[i][0]], tfidf_corpus_1[i][1]))"
   ]
  },
  {
   "cell_type": "markdown",
   "metadata": {},
   "source": [
    "## 3. Modeling topics\n",
    "### 3.1. BoW"
   ]
  },
  {
   "cell_type": "code",
   "execution_count": 55,
   "metadata": {},
   "outputs": [],
   "source": [
    "lda_model = gensim.models.LdaMulticore(bow_corpus, num_topics=10, id2word=dictionary, passes=2, workers=2)"
   ]
  },
  {
   "cell_type": "code",
   "execution_count": 56,
   "metadata": {},
   "outputs": [
    {
     "name": "stdout",
     "output_type": "stream",
     "text": [
      "Topic: 0 \n",
      "Words: 0.009*\"say\" + 0.009*\"year\" + 0.006*\"like\" + 0.006*\"peopl\" + 0.005*\"time\" + 0.005*\"think\" + 0.005*\"go\" + 0.004*\"compani\" + 0.004*\"know\" + 0.004*\"work\"\n",
      "Topic: 1 \n",
      "Words: 0.007*\"like\" + 0.007*\"peopl\" + 0.006*\"say\" + 0.005*\"year\" + 0.005*\"work\" + 0.005*\"time\" + 0.003*\"think\" + 0.003*\"report\" + 0.003*\"come\" + 0.003*\"know\"\n",
      "Topic: 2 \n",
      "Words: 0.011*\"say\" + 0.009*\"like\" + 0.006*\"peopl\" + 0.005*\"year\" + 0.005*\"think\" + 0.005*\"time\" + 0.004*\"work\" + 0.004*\"tell\" + 0.004*\"know\" + 0.003*\"want\"\n",
      "Topic: 3 \n",
      "Words: 0.007*\"say\" + 0.007*\"like\" + 0.006*\"trump\" + 0.006*\"peopl\" + 0.006*\"republican\" + 0.006*\"think\" + 0.004*\"go\" + 0.004*\"democrat\" + 0.004*\"time\" + 0.004*\"know\"\n",
      "Topic: 4 \n",
      "Words: 0.009*\"say\" + 0.009*\"like\" + 0.006*\"think\" + 0.006*\"trump\" + 0.005*\"peopl\" + 0.005*\"time\" + 0.005*\"year\" + 0.004*\"facebook\" + 0.004*\"go\" + 0.004*\"know\"\n",
      "Topic: 5 \n",
      "Words: 0.009*\"option\" + 0.009*\"section\" + 0.009*\"previous\" + 0.009*\"expand\" + 0.009*\"indic\" + 0.009*\"icon\" + 0.008*\"navig\" + 0.008*\"chevron\" + 0.008*\"menu\" + 0.006*\"say\"\n",
      "Topic: 6 \n",
      "Words: 0.016*\"say\" + 0.006*\"trump\" + 0.006*\"state\" + 0.006*\"year\" + 0.005*\"peopl\" + 0.005*\"report\" + 0.005*\"like\" + 0.004*\"time\" + 0.003*\"hous\" + 0.003*\"govern\"\n",
      "Topic: 7 \n",
      "Words: 0.009*\"say\" + 0.008*\"trump\" + 0.007*\"state\" + 0.005*\"like\" + 0.005*\"peopl\" + 0.005*\"presid\" + 0.005*\"democrat\" + 0.004*\"year\" + 0.004*\"time\" + 0.004*\"republican\"\n",
      "Topic: 8 \n",
      "Words: 0.019*\"say\" + 0.006*\"trump\" + 0.005*\"year\" + 0.005*\"report\" + 0.005*\"presid\" + 0.005*\"state\" + 0.004*\"tell\" + 0.004*\"peopl\" + 0.004*\"vote\" + 0.004*\"time\"\n",
      "Topic: 9 \n",
      "Words: 0.016*\"trump\" + 0.009*\"say\" + 0.007*\"peopl\" + 0.006*\"time\" + 0.006*\"like\" + 0.004*\"go\" + 0.004*\"report\" + 0.004*\"presid\" + 0.004*\"know\" + 0.004*\"tell\"\n"
     ]
    }
   ],
   "source": [
    "for idx, topic in lda_model.print_topics(-1):\n",
    "    print('Topic: {} \\nWords: {}'.format(idx, topic))"
   ]
  },
  {
   "cell_type": "markdown",
   "metadata": {},
   "source": [
    "### 3.2. TF-IDF"
   ]
  },
  {
   "cell_type": "code",
   "execution_count": 70,
   "metadata": {},
   "outputs": [],
   "source": [
    "lda_model_tfidf = gensim.models.LdaMulticore(corpus_tfidf, num_topics=10, id2word=dictionary, passes=2, workers=4)"
   ]
  },
  {
   "cell_type": "code",
   "execution_count": 71,
   "metadata": {},
   "outputs": [
    {
     "name": "stdout",
     "output_type": "stream",
     "text": [
      "Topic: 0 Word: 0.001*\"trump\" + 0.001*\"republican\" + 0.001*\"say\" + 0.001*\"peopl\" + 0.001*\"like\" + 0.001*\"china\" + 0.001*\"state\" + 0.001*\"year\" + 0.001*\"work\" + 0.001*\"korea\"\n",
      "Topic: 1 Word: 0.001*\"trump\" + 0.001*\"democrat\" + 0.001*\"elect\" + 0.001*\"vote\" + 0.001*\"say\" + 0.001*\"state\" + 0.001*\"republican\" + 0.001*\"campaign\" + 0.001*\"clinton\" + 0.001*\"brexit\"\n",
      "Topic: 2 Word: 0.001*\"trump\" + 0.001*\"say\" + 0.001*\"compani\" + 0.000*\"peopl\" + 0.000*\"presid\" + 0.000*\"state\" + 0.000*\"like\" + 0.000*\"women\" + 0.000*\"million\" + 0.000*\"democrat\"\n",
      "Topic: 3 Word: 0.002*\"trump\" + 0.001*\"mueller\" + 0.001*\"presid\" + 0.001*\"republican\" + 0.001*\"democrat\" + 0.001*\"trade\" + 0.001*\"saudi\" + 0.001*\"state\" + 0.001*\"percent\" + 0.001*\"china\"\n",
      "Topic: 4 Word: 0.001*\"trump\" + 0.001*\"chevron\" + 0.001*\"menu\" + 0.001*\"navig\" + 0.001*\"icon\" + 0.001*\"section\" + 0.001*\"facebook\" + 0.001*\"option\" + 0.001*\"compani\" + 0.001*\"expand\"\n",
      "Topic: 5 Word: 0.001*\"trump\" + 0.001*\"senat\" + 0.001*\"republican\" + 0.001*\"bank\" + 0.001*\"democrat\" + 0.001*\"compani\" + 0.001*\"presid\" + 0.001*\"court\" + 0.001*\"say\" + 0.001*\"like\"\n",
      "Topic: 6 Word: 0.002*\"trump\" + 0.001*\"compani\" + 0.001*\"china\" + 0.001*\"peopl\" + 0.001*\"say\" + 0.001*\"like\" + 0.001*\"artist\" + 0.001*\"work\" + 0.001*\"think\" + 0.001*\"presid\"\n",
      "Topic: 7 Word: 0.001*\"trump\" + 0.001*\"say\" + 0.001*\"season\" + 0.001*\"iran\" + 0.001*\"peopl\" + 0.001*\"vaccin\" + 0.001*\"like\" + 0.001*\"republican\" + 0.000*\"compani\" + 0.000*\"time\"\n",
      "Topic: 8 Word: 0.001*\"trump\" + 0.001*\"say\" + 0.001*\"presid\" + 0.001*\"percent\" + 0.001*\"state\" + 0.001*\"compani\" + 0.001*\"peopl\" + 0.001*\"health\" + 0.001*\"report\" + 0.001*\"facebook\"\n",
      "Topic: 9 Word: 0.002*\"trump\" + 0.001*\"republican\" + 0.001*\"democrat\" + 0.001*\"vote\" + 0.001*\"brexit\" + 0.001*\"korea\" + 0.001*\"presid\" + 0.001*\"immigr\" + 0.001*\"say\" + 0.001*\"deal\"\n"
     ]
    }
   ],
   "source": [
    "for idx, topic in lda_model_tfidf.print_topics(-1):\n",
    "    print('Topic: {} Word: {}'.format(idx, topic))"
   ]
  },
  {
   "cell_type": "markdown",
   "metadata": {},
   "source": [
    "### 4. Evaluation"
   ]
  },
  {
   "cell_type": "code",
   "execution_count": 72,
   "metadata": {},
   "outputs": [
    {
     "name": "stdout",
     "output_type": "stream",
     "text": [
      "\n",
      "Score: 0.9956902265548706\t \n",
      "Topic: 0.016*\"trump\" + 0.009*\"say\" + 0.007*\"peopl\" + 0.006*\"time\" + 0.006*\"like\" + 0.004*\"go\" + 0.004*\"report\" + 0.004*\"presid\" + 0.004*\"know\" + 0.004*\"tell\"\n"
     ]
    }
   ],
   "source": [
    "for index, score in sorted(lda_model[bow_corpus[4310]], key=lambda tup: -1*tup[1]):\n",
    "    print(\"\\nScore: {}\\t \\nTopic: {}\".format(score, lda_model.print_topic(index, 10)))"
   ]
  },
  {
   "cell_type": "code",
   "execution_count": 73,
   "metadata": {},
   "outputs": [
    {
     "name": "stdout",
     "output_type": "stream",
     "text": [
      "\n",
      "Score: 0.6061391830444336\t \n",
      "Topic: 0.002*\"trump\" + 0.001*\"compani\" + 0.001*\"china\" + 0.001*\"peopl\" + 0.001*\"say\" + 0.001*\"like\" + 0.001*\"artist\" + 0.001*\"work\" + 0.001*\"think\" + 0.001*\"presid\"\n",
      "\n",
      "Score: 0.33250996470451355\t \n",
      "Topic: 0.002*\"trump\" + 0.001*\"republican\" + 0.001*\"democrat\" + 0.001*\"vote\" + 0.001*\"brexit\" + 0.001*\"korea\" + 0.001*\"presid\" + 0.001*\"immigr\" + 0.001*\"say\" + 0.001*\"deal\"\n",
      "\n",
      "Score: 0.05794994533061981\t \n",
      "Topic: 0.002*\"trump\" + 0.001*\"mueller\" + 0.001*\"presid\" + 0.001*\"republican\" + 0.001*\"democrat\" + 0.001*\"trade\" + 0.001*\"saudi\" + 0.001*\"state\" + 0.001*\"percent\" + 0.001*\"china\"\n"
     ]
    }
   ],
   "source": [
    "for index, score in sorted(lda_model_tfidf[bow_corpus[4310]], key=lambda tup: -1*tup[1]):\n",
    "    print(\"\\nScore: {}\\t \\nTopic: {}\".format(score, lda_model_tfidf.print_topic(index, 10)))"
   ]
  }
 ],
 "metadata": {
  "kernelspec": {
   "display_name": "Python 3",
   "language": "python",
   "name": "python3"
  },
  "language_info": {
   "codemirror_mode": {
    "name": "ipython",
    "version": 3
   },
   "file_extension": ".py",
   "mimetype": "text/x-python",
   "name": "python",
   "nbconvert_exporter": "python",
   "pygments_lexer": "ipython3",
   "version": "3.8.1"
  }
 },
 "nbformat": 4,
 "nbformat_minor": 4
}
