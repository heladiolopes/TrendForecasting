{
 "cells": [
  {
   "cell_type": "code",
   "execution_count": 1,
   "metadata": {
    "ExecuteTime": {
     "end_time": "2020-09-19T22:11:03.257760Z",
     "start_time": "2020-09-19T22:11:02.923899Z"
    }
   },
   "outputs": [],
   "source": [
    "import pandas as pd\n",
    "import os \n",
    "\n",
    "splitted_path = \"../assets/data/all-news/splitted\"\n",
    "\n",
    "\n",
    "def save_dataframe_by_date(df: pd.DataFrame, year_month: str):\n",
    "    \n",
    "    filename = os.path.abspath(os.path.join(splitted_path, f\"{year_month}.csv\"))\n",
    "    \n",
    "    if os.path.exists(filename):\n",
    "#         print(f\"Appending {filename}\")\n",
    "        df.to_csv(filename, index=False, mode='a', header=False)\n",
    "    else:\n",
    "#         print(f\"Creating {filename}\")\n",
    "        df.to_csv(filename, index=False)\n",
    "        "
   ]
  },
  {
   "cell_type": "code",
   "execution_count": 2,
   "metadata": {
    "ExecuteTime": {
     "end_time": "2020-09-19T22:11:03.267490Z",
     "start_time": "2020-09-19T22:11:03.260050Z"
    }
   },
   "outputs": [],
   "source": [
    "COLS = ['date', 'title', 'article']\n",
    "CHUNK = 5000\n",
    "N_ROWS = 2000\n",
    "\n",
    "\n",
    "chunks = pd.read_csv(\n",
    "    '~/PycharmProjects/trend-forecast/assets/data/all-news/all-the-news-2-1.csv',\n",
    "    usecols=COLS,\n",
    "    parse_dates=['date'],\n",
    "#     nrows=N_ROWS, \n",
    "    chunksize=1000\n",
    ")"
   ]
  },
  {
   "cell_type": "code",
   "execution_count": 3,
   "metadata": {
    "ExecuteTime": {
     "end_time": "2020-09-19T22:21:32.431021Z",
     "start_time": "2020-09-19T22:11:03.271130Z"
    }
   },
   "outputs": [],
   "source": [
    "import datetime as dt\n",
    "time = []\n",
    "\n",
    "for df in chunks:\n",
    "    start_t = dt.datetime.now()\n",
    "    \n",
    "    # Calculate year-month to segment\n",
    "    df['year_month'] = df.date.dt.strftime(\"%Y-%m\")\n",
    "    \n",
    "    # Iterate through the years months\n",
    "    for ym in df['year_month'].unique():\n",
    "        df_ym = df.loc[df['year_month'] == ym]\n",
    "        save_dataframe_by_date(df_ym, ym)\n",
    "    \n",
    "    end_t = dt.datetime.now()\n",
    "    \n",
    "    time.append(end_t - start_t)"
   ]
  }
 ],
 "metadata": {
  "kernelspec": {
   "display_name": "Python 3",
   "language": "python",
   "name": "python3"
  },
  "language_info": {
   "codemirror_mode": {
    "name": "ipython",
    "version": 3
   },
   "file_extension": ".py",
   "mimetype": "text/x-python",
   "name": "python",
   "nbconvert_exporter": "python",
   "pygments_lexer": "ipython3",
   "version": "3.8.2"
  },
  "toc": {
   "base_numbering": 1,
   "nav_menu": {},
   "number_sections": true,
   "sideBar": true,
   "skip_h1_title": false,
   "title_cell": "Table of Contents",
   "title_sidebar": "Contents",
   "toc_cell": false,
   "toc_position": {},
   "toc_section_display": true,
   "toc_window_display": false
  },
  "varInspector": {
   "cols": {
    "lenName": 16,
    "lenType": 16,
    "lenVar": 40
   },
   "kernels_config": {
    "python": {
     "delete_cmd_postfix": "",
     "delete_cmd_prefix": "del ",
     "library": "var_list.py",
     "varRefreshCmd": "print(var_dic_list())"
    },
    "r": {
     "delete_cmd_postfix": ") ",
     "delete_cmd_prefix": "rm(",
     "library": "var_list.r",
     "varRefreshCmd": "cat(var_dic_list()) "
    }
   },
   "types_to_exclude": [
    "module",
    "function",
    "builtin_function_or_method",
    "instance",
    "_Feature"
   ],
   "window_display": false
  }
 },
 "nbformat": 4,
 "nbformat_minor": 4
}
