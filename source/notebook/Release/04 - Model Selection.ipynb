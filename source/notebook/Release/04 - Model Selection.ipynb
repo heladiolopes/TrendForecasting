{
 "cells": [
  {
   "cell_type": "markdown",
   "metadata": {},
   "source": [
    "# Initial Setup"
   ]
  },
  {
   "cell_type": "markdown",
   "metadata": {
    "heading_collapsed": true
   },
   "source": [
    "## Ignore potential warnings"
   ]
  },
  {
   "cell_type": "code",
   "execution_count": 1,
   "metadata": {
    "ExecuteTime": {
     "end_time": "2020-11-02T12:46:37.946717Z",
     "start_time": "2020-11-02T12:46:37.941129Z"
    },
    "hidden": true
   },
   "outputs": [],
   "source": [
    "# Ignore warnings\n",
    "import warnings\n",
    "\n",
    "warnings.filterwarnings(\"ignore\")\n",
    "warnings.filterwarnings(\"ignore\", category=DeprecationWarning)\n",
    "warnings.filterwarnings('ignore', category=FutureWarning)\n",
    "warnings.filterwarnings('ignore', category=UserWarning)"
   ]
  },
  {
   "cell_type": "markdown",
   "metadata": {
    "heading_collapsed": true
   },
   "source": [
    "## Plotly template setup"
   ]
  },
  {
   "cell_type": "code",
   "execution_count": 2,
   "metadata": {
    "ExecuteTime": {
     "end_time": "2020-11-02T12:46:39.041713Z",
     "start_time": "2020-11-02T12:46:37.951818Z"
    },
    "hidden": true
   },
   "outputs": [],
   "source": [
    "from plotly.subplots import make_subplots\n",
    "import plotly.graph_objects as go\n",
    "import plotly.express as px\n",
    "import plotly.io as pio\n",
    "\n",
    "template_tg = go.layout.Template()\n",
    "template_tg.layout.colorway = ['#253540', '#E71C24', '#F3C707', '#D4D3D4', '#747A7A']\n",
    "template_tg.layout.title = {'font': {'size': 22}}\n",
    "template_tg.layout.colorscale = {'sequential': [[0.0, '#253540'], [1.0, '#F3C707']]}\n",
    "template_tg.layout.coloraxis = {'colorbar': {'outlinewidth': 5,'outlinecolor': 'rgb(255,255,255)'}}\n",
    "template_tg.layout.font = {'family': 'Microsoft PhagsPa','color': 'rgb(0,0,0)', 'size': 15}\n",
    "\n",
    "axis_style = {'gridcolor': 'rgb(0,0,0)','linecolor': 'rgb(0,0,0)','tickcolor': 'rgb(0,0,0)'}\n",
    "template_tg.layout.xaxis = axis_style\n",
    "template_tg.layout.yaxis = axis_style\n",
    "\n",
    "template_tg.layout.height = 400\n",
    "template_tg.layout.width = 600\n",
    "template_tg.layout.bargroupgap = 0.15\n",
    "template_tg.layout.margin=dict(l=0, r=0, b=0, t=0)\n",
    "\n",
    "# Combining user-defined template with base template\n",
    "pio.templates[\"template_tg\"] = template_tg\n",
    "pio.templates.default = \"simple_white+template_tg\""
   ]
  },
  {
   "cell_type": "markdown",
   "metadata": {
    "heading_collapsed": true
   },
   "source": [
    "## Reading data"
   ]
  },
  {
   "cell_type": "code",
   "execution_count": 3,
   "metadata": {
    "ExecuteTime": {
     "end_time": "2020-11-02T12:46:39.047995Z",
     "start_time": "2020-11-02T12:46:39.044648Z"
    },
    "hidden": true
   },
   "outputs": [],
   "source": [
    "import datetime as dt\n",
    "import pandas as pd\n",
    "import numpy as np\n",
    "import json\n",
    "import os\n",
    "\n",
    "# Mount filename\n",
    "base_path = \"../../assets/data/nips\"\n",
    "\n",
    "# Parameters\n",
    "no_topics = 25"
   ]
  },
  {
   "cell_type": "markdown",
   "metadata": {
    "hidden": true
   },
   "source": [
    "### Past data set + label + vocabulary"
   ]
  },
  {
   "cell_type": "code",
   "execution_count": 4,
   "metadata": {
    "ExecuteTime": {
     "end_time": "2020-11-02T12:46:39.430434Z",
     "start_time": "2020-11-02T12:46:39.051636Z"
    },
    "hidden": true
   },
   "outputs": [
    {
     "data": {
      "text/html": [
       "<div>\n",
       "<style scoped>\n",
       "    .dataframe tbody tr th:only-of-type {\n",
       "        vertical-align: middle;\n",
       "    }\n",
       "\n",
       "    .dataframe tbody tr th {\n",
       "        vertical-align: top;\n",
       "    }\n",
       "\n",
       "    .dataframe thead th {\n",
       "        text-align: right;\n",
       "    }\n",
       "</style>\n",
       "<table border=\"1\" class=\"dataframe\">\n",
       "  <thead>\n",
       "    <tr style=\"text-align: right;\">\n",
       "      <th></th>\n",
       "      <th>year</th>\n",
       "      <th>id</th>\n",
       "      <th>text</th>\n",
       "    </tr>\n",
       "  </thead>\n",
       "  <tbody>\n",
       "    <tr>\n",
       "      <th>0</th>\n",
       "      <td>1987</td>\n",
       "      <td>1</td>\n",
       "      <td>self organization associative database applica...</td>\n",
       "    </tr>\n",
       "    <tr>\n",
       "      <th>1</th>\n",
       "      <td>1987</td>\n",
       "      <td>2</td>\n",
       "      <td>capacity kanerva associative memory exponentia...</td>\n",
       "    </tr>\n",
       "    <tr>\n",
       "      <th>2</th>\n",
       "      <td>1987</td>\n",
       "      <td>3</td>\n",
       "      <td>supervise learning probability distribution ne...</td>\n",
       "    </tr>\n",
       "    <tr>\n",
       "      <th>3</th>\n",
       "      <td>1987</td>\n",
       "      <td>4</td>\n",
       "      <td>constrained differential optimization constrai...</td>\n",
       "    </tr>\n",
       "    <tr>\n",
       "      <th>4</th>\n",
       "      <td>1987</td>\n",
       "      <td>5</td>\n",
       "      <td>towards organize principle layered perceptual ...</td>\n",
       "    </tr>\n",
       "  </tbody>\n",
       "</table>\n",
       "</div>"
      ],
      "text/plain": [
       "   year  id                                               text\n",
       "0  1987   1  self organization associative database applica...\n",
       "1  1987   2  capacity kanerva associative memory exponentia...\n",
       "2  1987   3  supervise learning probability distribution ne...\n",
       "3  1987   4  constrained differential optimization constrai...\n",
       "4  1987   5  towards organize principle layered perceptual ..."
      ]
     },
     "metadata": {},
     "output_type": "display_data"
    },
    {
     "data": {
      "text/html": [
       "<div>\n",
       "<style scoped>\n",
       "    .dataframe tbody tr th:only-of-type {\n",
       "        vertical-align: middle;\n",
       "    }\n",
       "\n",
       "    .dataframe tbody tr th {\n",
       "        vertical-align: top;\n",
       "    }\n",
       "\n",
       "    .dataframe thead th {\n",
       "        text-align: right;\n",
       "    }\n",
       "</style>\n",
       "<table border=\"1\" class=\"dataframe\">\n",
       "  <thead>\n",
       "    <tr style=\"text-align: right;\">\n",
       "      <th></th>\n",
       "      <th>id</th>\n",
       "      <th>past_00</th>\n",
       "      <th>past_01</th>\n",
       "      <th>past_02</th>\n",
       "      <th>past_03</th>\n",
       "      <th>past_04</th>\n",
       "      <th>past_05</th>\n",
       "      <th>past_06</th>\n",
       "      <th>past_07</th>\n",
       "      <th>past_08</th>\n",
       "      <th>...</th>\n",
       "      <th>past_15</th>\n",
       "      <th>past_16</th>\n",
       "      <th>past_17</th>\n",
       "      <th>past_18</th>\n",
       "      <th>past_19</th>\n",
       "      <th>past_20</th>\n",
       "      <th>past_21</th>\n",
       "      <th>past_22</th>\n",
       "      <th>past_23</th>\n",
       "      <th>past_24</th>\n",
       "    </tr>\n",
       "  </thead>\n",
       "  <tbody>\n",
       "    <tr>\n",
       "      <th>0</th>\n",
       "      <td>1</td>\n",
       "      <td>1</td>\n",
       "      <td>0</td>\n",
       "      <td>0</td>\n",
       "      <td>0</td>\n",
       "      <td>1</td>\n",
       "      <td>0</td>\n",
       "      <td>0</td>\n",
       "      <td>0</td>\n",
       "      <td>1</td>\n",
       "      <td>...</td>\n",
       "      <td>0</td>\n",
       "      <td>1</td>\n",
       "      <td>0</td>\n",
       "      <td>1</td>\n",
       "      <td>0</td>\n",
       "      <td>0</td>\n",
       "      <td>0</td>\n",
       "      <td>1</td>\n",
       "      <td>0</td>\n",
       "      <td>1</td>\n",
       "    </tr>\n",
       "    <tr>\n",
       "      <th>1</th>\n",
       "      <td>2</td>\n",
       "      <td>0</td>\n",
       "      <td>1</td>\n",
       "      <td>0</td>\n",
       "      <td>0</td>\n",
       "      <td>0</td>\n",
       "      <td>1</td>\n",
       "      <td>0</td>\n",
       "      <td>0</td>\n",
       "      <td>0</td>\n",
       "      <td>...</td>\n",
       "      <td>0</td>\n",
       "      <td>0</td>\n",
       "      <td>0</td>\n",
       "      <td>1</td>\n",
       "      <td>0</td>\n",
       "      <td>0</td>\n",
       "      <td>0</td>\n",
       "      <td>0</td>\n",
       "      <td>0</td>\n",
       "      <td>0</td>\n",
       "    </tr>\n",
       "    <tr>\n",
       "      <th>2</th>\n",
       "      <td>3</td>\n",
       "      <td>0</td>\n",
       "      <td>0</td>\n",
       "      <td>0</td>\n",
       "      <td>0</td>\n",
       "      <td>0</td>\n",
       "      <td>1</td>\n",
       "      <td>0</td>\n",
       "      <td>0</td>\n",
       "      <td>0</td>\n",
       "      <td>...</td>\n",
       "      <td>0</td>\n",
       "      <td>0</td>\n",
       "      <td>0</td>\n",
       "      <td>0</td>\n",
       "      <td>0</td>\n",
       "      <td>0</td>\n",
       "      <td>0</td>\n",
       "      <td>1</td>\n",
       "      <td>0</td>\n",
       "      <td>0</td>\n",
       "    </tr>\n",
       "    <tr>\n",
       "      <th>3</th>\n",
       "      <td>4</td>\n",
       "      <td>0</td>\n",
       "      <td>0</td>\n",
       "      <td>0</td>\n",
       "      <td>0</td>\n",
       "      <td>0</td>\n",
       "      <td>0</td>\n",
       "      <td>0</td>\n",
       "      <td>0</td>\n",
       "      <td>0</td>\n",
       "      <td>...</td>\n",
       "      <td>0</td>\n",
       "      <td>0</td>\n",
       "      <td>0</td>\n",
       "      <td>0</td>\n",
       "      <td>0</td>\n",
       "      <td>1</td>\n",
       "      <td>1</td>\n",
       "      <td>0</td>\n",
       "      <td>0</td>\n",
       "      <td>0</td>\n",
       "    </tr>\n",
       "    <tr>\n",
       "      <th>4</th>\n",
       "      <td>5</td>\n",
       "      <td>0</td>\n",
       "      <td>0</td>\n",
       "      <td>0</td>\n",
       "      <td>0</td>\n",
       "      <td>0</td>\n",
       "      <td>1</td>\n",
       "      <td>0</td>\n",
       "      <td>0</td>\n",
       "      <td>1</td>\n",
       "      <td>...</td>\n",
       "      <td>0</td>\n",
       "      <td>1</td>\n",
       "      <td>0</td>\n",
       "      <td>0</td>\n",
       "      <td>0</td>\n",
       "      <td>0</td>\n",
       "      <td>1</td>\n",
       "      <td>0</td>\n",
       "      <td>0</td>\n",
       "      <td>0</td>\n",
       "    </tr>\n",
       "  </tbody>\n",
       "</table>\n",
       "<p>5 rows × 26 columns</p>\n",
       "</div>"
      ],
      "text/plain": [
       "   id  past_00  past_01  past_02  past_03  past_04  past_05  past_06  past_07  \\\n",
       "0   1        1        0        0        0        1        0        0        0   \n",
       "1   2        0        1        0        0        0        1        0        0   \n",
       "2   3        0        0        0        0        0        1        0        0   \n",
       "3   4        0        0        0        0        0        0        0        0   \n",
       "4   5        0        0        0        0        0        1        0        0   \n",
       "\n",
       "   past_08  ...  past_15  past_16  past_17  past_18  past_19  past_20  \\\n",
       "0        1  ...        0        1        0        1        0        0   \n",
       "1        0  ...        0        0        0        1        0        0   \n",
       "2        0  ...        0        0        0        0        0        0   \n",
       "3        0  ...        0        0        0        0        0        1   \n",
       "4        1  ...        0        1        0        0        0        0   \n",
       "\n",
       "   past_21  past_22  past_23  past_24  \n",
       "0        0        1        0        1  \n",
       "1        0        0        0        0  \n",
       "2        0        1        0        0  \n",
       "3        1        0        0        0  \n",
       "4        1        0        0        0  \n",
       "\n",
       "[5 rows x 26 columns]"
      ]
     },
     "metadata": {},
     "output_type": "display_data"
    }
   ],
   "source": [
    "# Reading past csv\n",
    "past_df = pd.read_csv(os.path.abspath(os.path.join(base_path, \"past.csv\")))\n",
    "display(past_df.head())\n",
    "\n",
    "# Reading labels\n",
    "past_labels = pd.read_csv('data/past_labels.csv')\n",
    "display(past_labels.head())\n",
    "\n",
    "# Reading vocabulary\n",
    "with open('data/past_vocabulary.json', 'r') as f:\n",
    "    past_vocabulary = json.load(f)"
   ]
  },
  {
   "cell_type": "markdown",
   "metadata": {
    "hidden": true
   },
   "source": [
    "### Present data set + label"
   ]
  },
  {
   "cell_type": "code",
   "execution_count": 5,
   "metadata": {
    "ExecuteTime": {
     "end_time": "2020-11-02T12:46:40.061936Z",
     "start_time": "2020-11-02T12:46:39.433896Z"
    },
    "hidden": true
   },
   "outputs": [
    {
     "data": {
      "text/html": [
       "<div>\n",
       "<style scoped>\n",
       "    .dataframe tbody tr th:only-of-type {\n",
       "        vertical-align: middle;\n",
       "    }\n",
       "\n",
       "    .dataframe tbody tr th {\n",
       "        vertical-align: top;\n",
       "    }\n",
       "\n",
       "    .dataframe thead th {\n",
       "        text-align: right;\n",
       "    }\n",
       "</style>\n",
       "<table border=\"1\" class=\"dataframe\">\n",
       "  <thead>\n",
       "    <tr style=\"text-align: right;\">\n",
       "      <th></th>\n",
       "      <th>year</th>\n",
       "      <th>id</th>\n",
       "      <th>text</th>\n",
       "    </tr>\n",
       "  </thead>\n",
       "  <tbody>\n",
       "    <tr>\n",
       "      <th>0</th>\n",
       "      <td>2003</td>\n",
       "      <td>2345</td>\n",
       "      <td>error bound transductive learning compression ...</td>\n",
       "    </tr>\n",
       "    <tr>\n",
       "      <th>1</th>\n",
       "      <td>2003</td>\n",
       "      <td>2346</td>\n",
       "      <td>predict speech intelligibility population neur...</td>\n",
       "    </tr>\n",
       "    <tr>\n",
       "      <th>2</th>\n",
       "      <td>2003</td>\n",
       "      <td>2347</td>\n",
       "      <td>markov model automated interval analysis marko...</td>\n",
       "    </tr>\n",
       "    <tr>\n",
       "      <th>3</th>\n",
       "      <td>2003</td>\n",
       "      <td>2348</td>\n",
       "      <td>perception structure physical world unknown mu...</td>\n",
       "    </tr>\n",
       "    <tr>\n",
       "      <th>4</th>\n",
       "      <td>2003</td>\n",
       "      <td>2349</td>\n",
       "      <td>find probable configuration loopy belief propa...</td>\n",
       "    </tr>\n",
       "  </tbody>\n",
       "</table>\n",
       "</div>"
      ],
      "text/plain": [
       "   year    id                                               text\n",
       "0  2003  2345  error bound transductive learning compression ...\n",
       "1  2003  2346  predict speech intelligibility population neur...\n",
       "2  2003  2347  markov model automated interval analysis marko...\n",
       "3  2003  2348  perception structure physical world unknown mu...\n",
       "4  2003  2349  find probable configuration loopy belief propa..."
      ]
     },
     "metadata": {},
     "output_type": "display_data"
    },
    {
     "data": {
      "text/html": [
       "<div>\n",
       "<style scoped>\n",
       "    .dataframe tbody tr th:only-of-type {\n",
       "        vertical-align: middle;\n",
       "    }\n",
       "\n",
       "    .dataframe tbody tr th {\n",
       "        vertical-align: top;\n",
       "    }\n",
       "\n",
       "    .dataframe thead th {\n",
       "        text-align: right;\n",
       "    }\n",
       "</style>\n",
       "<table border=\"1\" class=\"dataframe\">\n",
       "  <thead>\n",
       "    <tr style=\"text-align: right;\">\n",
       "      <th></th>\n",
       "      <th>id</th>\n",
       "      <th>pres_00</th>\n",
       "      <th>pres_01</th>\n",
       "      <th>pres_02</th>\n",
       "      <th>pres_03</th>\n",
       "      <th>pres_04</th>\n",
       "      <th>pres_05</th>\n",
       "      <th>pres_06</th>\n",
       "      <th>pres_07</th>\n",
       "      <th>pres_08</th>\n",
       "      <th>...</th>\n",
       "      <th>pres_15</th>\n",
       "      <th>pres_16</th>\n",
       "      <th>pres_17</th>\n",
       "      <th>pres_18</th>\n",
       "      <th>pres_19</th>\n",
       "      <th>pres_20</th>\n",
       "      <th>pres_21</th>\n",
       "      <th>pres_22</th>\n",
       "      <th>pres_23</th>\n",
       "      <th>pres_24</th>\n",
       "    </tr>\n",
       "  </thead>\n",
       "  <tbody>\n",
       "    <tr>\n",
       "      <th>0</th>\n",
       "      <td>2345</td>\n",
       "      <td>0</td>\n",
       "      <td>0</td>\n",
       "      <td>0</td>\n",
       "      <td>0</td>\n",
       "      <td>0</td>\n",
       "      <td>0</td>\n",
       "      <td>0</td>\n",
       "      <td>0</td>\n",
       "      <td>0</td>\n",
       "      <td>...</td>\n",
       "      <td>0</td>\n",
       "      <td>1</td>\n",
       "      <td>0</td>\n",
       "      <td>0</td>\n",
       "      <td>0</td>\n",
       "      <td>0</td>\n",
       "      <td>0</td>\n",
       "      <td>0</td>\n",
       "      <td>0</td>\n",
       "      <td>1</td>\n",
       "    </tr>\n",
       "    <tr>\n",
       "      <th>1</th>\n",
       "      <td>2346</td>\n",
       "      <td>0</td>\n",
       "      <td>0</td>\n",
       "      <td>1</td>\n",
       "      <td>0</td>\n",
       "      <td>0</td>\n",
       "      <td>0</td>\n",
       "      <td>1</td>\n",
       "      <td>0</td>\n",
       "      <td>0</td>\n",
       "      <td>...</td>\n",
       "      <td>0</td>\n",
       "      <td>0</td>\n",
       "      <td>0</td>\n",
       "      <td>0</td>\n",
       "      <td>0</td>\n",
       "      <td>0</td>\n",
       "      <td>0</td>\n",
       "      <td>0</td>\n",
       "      <td>0</td>\n",
       "      <td>1</td>\n",
       "    </tr>\n",
       "    <tr>\n",
       "      <th>2</th>\n",
       "      <td>2347</td>\n",
       "      <td>0</td>\n",
       "      <td>0</td>\n",
       "      <td>1</td>\n",
       "      <td>1</td>\n",
       "      <td>0</td>\n",
       "      <td>0</td>\n",
       "      <td>0</td>\n",
       "      <td>0</td>\n",
       "      <td>1</td>\n",
       "      <td>...</td>\n",
       "      <td>0</td>\n",
       "      <td>0</td>\n",
       "      <td>0</td>\n",
       "      <td>0</td>\n",
       "      <td>0</td>\n",
       "      <td>1</td>\n",
       "      <td>0</td>\n",
       "      <td>0</td>\n",
       "      <td>0</td>\n",
       "      <td>1</td>\n",
       "    </tr>\n",
       "    <tr>\n",
       "      <th>3</th>\n",
       "      <td>2348</td>\n",
       "      <td>0</td>\n",
       "      <td>0</td>\n",
       "      <td>1</td>\n",
       "      <td>0</td>\n",
       "      <td>0</td>\n",
       "      <td>0</td>\n",
       "      <td>1</td>\n",
       "      <td>0</td>\n",
       "      <td>1</td>\n",
       "      <td>...</td>\n",
       "      <td>0</td>\n",
       "      <td>0</td>\n",
       "      <td>0</td>\n",
       "      <td>1</td>\n",
       "      <td>0</td>\n",
       "      <td>0</td>\n",
       "      <td>0</td>\n",
       "      <td>0</td>\n",
       "      <td>0</td>\n",
       "      <td>0</td>\n",
       "    </tr>\n",
       "    <tr>\n",
       "      <th>4</th>\n",
       "      <td>2349</td>\n",
       "      <td>0</td>\n",
       "      <td>0</td>\n",
       "      <td>0</td>\n",
       "      <td>1</td>\n",
       "      <td>0</td>\n",
       "      <td>0</td>\n",
       "      <td>0</td>\n",
       "      <td>0</td>\n",
       "      <td>0</td>\n",
       "      <td>...</td>\n",
       "      <td>0</td>\n",
       "      <td>0</td>\n",
       "      <td>1</td>\n",
       "      <td>0</td>\n",
       "      <td>0</td>\n",
       "      <td>0</td>\n",
       "      <td>0</td>\n",
       "      <td>0</td>\n",
       "      <td>0</td>\n",
       "      <td>0</td>\n",
       "    </tr>\n",
       "  </tbody>\n",
       "</table>\n",
       "<p>5 rows × 26 columns</p>\n",
       "</div>"
      ],
      "text/plain": [
       "     id  pres_00  pres_01  pres_02  pres_03  pres_04  pres_05  pres_06  \\\n",
       "0  2345        0        0        0        0        0        0        0   \n",
       "1  2346        0        0        1        0        0        0        1   \n",
       "2  2347        0        0        1        1        0        0        0   \n",
       "3  2348        0        0        1        0        0        0        1   \n",
       "4  2349        0        0        0        1        0        0        0   \n",
       "\n",
       "   pres_07  pres_08  ...  pres_15  pres_16  pres_17  pres_18  pres_19  \\\n",
       "0        0        0  ...        0        1        0        0        0   \n",
       "1        0        0  ...        0        0        0        0        0   \n",
       "2        0        1  ...        0        0        0        0        0   \n",
       "3        0        1  ...        0        0        0        1        0   \n",
       "4        0        0  ...        0        0        1        0        0   \n",
       "\n",
       "   pres_20  pres_21  pres_22  pres_23  pres_24  \n",
       "0        0        0        0        0        1  \n",
       "1        0        0        0        0        1  \n",
       "2        1        0        0        0        1  \n",
       "3        0        0        0        0        0  \n",
       "4        0        0        0        0        0  \n",
       "\n",
       "[5 rows x 26 columns]"
      ]
     },
     "metadata": {},
     "output_type": "display_data"
    }
   ],
   "source": [
    "# Reading past csv\n",
    "pres_df = pd.read_csv(os.path.abspath(os.path.join(base_path, \"present.csv\")))\n",
    "display(pres_df.head())\n",
    "\n",
    "# Reading labels\n",
    "pres_labels = pd.read_csv('data/pres_labels.csv')\n",
    "display(pres_labels.head())"
   ]
  },
  {
   "cell_type": "markdown",
   "metadata": {
    "heading_collapsed": true,
    "hidden": true
   },
   "source": [
    "### Combination"
   ]
  },
  {
   "cell_type": "code",
   "execution_count": 6,
   "metadata": {
    "ExecuteTime": {
     "end_time": "2020-11-02T12:46:40.106158Z",
     "start_time": "2020-11-02T12:46:40.064547Z"
    },
    "hidden": true
   },
   "outputs": [
    {
     "data": {
      "text/html": [
       "<div>\n",
       "<style scoped>\n",
       "    .dataframe tbody tr th:only-of-type {\n",
       "        vertical-align: middle;\n",
       "    }\n",
       "\n",
       "    .dataframe tbody tr th {\n",
       "        vertical-align: top;\n",
       "    }\n",
       "\n",
       "    .dataframe thead th {\n",
       "        text-align: right;\n",
       "    }\n",
       "</style>\n",
       "<table border=\"1\" class=\"dataframe\">\n",
       "  <thead>\n",
       "    <tr style=\"text-align: right;\">\n",
       "      <th></th>\n",
       "      <th>0</th>\n",
       "      <th>1</th>\n",
       "      <th>2</th>\n",
       "      <th>3</th>\n",
       "      <th>4</th>\n",
       "      <th>5</th>\n",
       "      <th>6</th>\n",
       "      <th>7</th>\n",
       "      <th>8</th>\n",
       "      <th>9</th>\n",
       "      <th>...</th>\n",
       "      <th>615</th>\n",
       "      <th>616</th>\n",
       "      <th>617</th>\n",
       "      <th>618</th>\n",
       "      <th>619</th>\n",
       "      <th>620</th>\n",
       "      <th>621</th>\n",
       "      <th>622</th>\n",
       "      <th>623</th>\n",
       "      <th>624</th>\n",
       "    </tr>\n",
       "  </thead>\n",
       "  <tbody>\n",
       "    <tr>\n",
       "      <th>past</th>\n",
       "      <td>0.000000</td>\n",
       "      <td>0.000000</td>\n",
       "      <td>0.000000</td>\n",
       "      <td>0.000000</td>\n",
       "      <td>0.000000</td>\n",
       "      <td>0.000000</td>\n",
       "      <td>0.00000</td>\n",
       "      <td>0.000000</td>\n",
       "      <td>0.000000</td>\n",
       "      <td>0.000000</td>\n",
       "      <td>...</td>\n",
       "      <td>24.000000</td>\n",
       "      <td>24.000000</td>\n",
       "      <td>24.000000</td>\n",
       "      <td>24.000000</td>\n",
       "      <td>24.000000</td>\n",
       "      <td>24.000000</td>\n",
       "      <td>24.000000</td>\n",
       "      <td>24.00000</td>\n",
       "      <td>24.00000</td>\n",
       "      <td>24.000000</td>\n",
       "    </tr>\n",
       "    <tr>\n",
       "      <th>pres</th>\n",
       "      <td>0.000000</td>\n",
       "      <td>1.000000</td>\n",
       "      <td>2.000000</td>\n",
       "      <td>3.000000</td>\n",
       "      <td>4.000000</td>\n",
       "      <td>5.000000</td>\n",
       "      <td>6.00000</td>\n",
       "      <td>7.000000</td>\n",
       "      <td>8.000000</td>\n",
       "      <td>9.000000</td>\n",
       "      <td>...</td>\n",
       "      <td>15.000000</td>\n",
       "      <td>16.000000</td>\n",
       "      <td>17.000000</td>\n",
       "      <td>18.000000</td>\n",
       "      <td>19.000000</td>\n",
       "      <td>20.000000</td>\n",
       "      <td>21.000000</td>\n",
       "      <td>22.00000</td>\n",
       "      <td>23.00000</td>\n",
       "      <td>24.000000</td>\n",
       "    </tr>\n",
       "    <tr>\n",
       "      <th>count</th>\n",
       "      <td>5.000000</td>\n",
       "      <td>0.000000</td>\n",
       "      <td>5.000000</td>\n",
       "      <td>0.000000</td>\n",
       "      <td>3.000000</td>\n",
       "      <td>1.000000</td>\n",
       "      <td>2.00000</td>\n",
       "      <td>6.000000</td>\n",
       "      <td>23.000000</td>\n",
       "      <td>1.000000</td>\n",
       "      <td>...</td>\n",
       "      <td>0.000000</td>\n",
       "      <td>1.000000</td>\n",
       "      <td>2.000000</td>\n",
       "      <td>4.000000</td>\n",
       "      <td>3.000000</td>\n",
       "      <td>0.000000</td>\n",
       "      <td>4.000000</td>\n",
       "      <td>0.00000</td>\n",
       "      <td>2.00000</td>\n",
       "      <td>6.000000</td>\n",
       "    </tr>\n",
       "    <tr>\n",
       "      <th>score</th>\n",
       "      <td>0.096452</td>\n",
       "      <td>0.085495</td>\n",
       "      <td>0.101099</td>\n",
       "      <td>0.095286</td>\n",
       "      <td>0.107389</td>\n",
       "      <td>0.103759</td>\n",
       "      <td>0.09564</td>\n",
       "      <td>0.098505</td>\n",
       "      <td>0.055031</td>\n",
       "      <td>0.094305</td>\n",
       "      <td>...</td>\n",
       "      <td>0.127274</td>\n",
       "      <td>0.097144</td>\n",
       "      <td>0.111584</td>\n",
       "      <td>0.095678</td>\n",
       "      <td>0.091891</td>\n",
       "      <td>0.101373</td>\n",
       "      <td>0.111027</td>\n",
       "      <td>0.07804</td>\n",
       "      <td>0.10007</td>\n",
       "      <td>0.097415</td>\n",
       "    </tr>\n",
       "  </tbody>\n",
       "</table>\n",
       "<p>4 rows × 625 columns</p>\n",
       "</div>"
      ],
      "text/plain": [
       "            0         1         2         3         4         5        6    \\\n",
       "past   0.000000  0.000000  0.000000  0.000000  0.000000  0.000000  0.00000   \n",
       "pres   0.000000  1.000000  2.000000  3.000000  4.000000  5.000000  6.00000   \n",
       "count  5.000000  0.000000  5.000000  0.000000  3.000000  1.000000  2.00000   \n",
       "score  0.096452  0.085495  0.101099  0.095286  0.107389  0.103759  0.09564   \n",
       "\n",
       "            7          8         9    ...        615        616        617  \\\n",
       "past   0.000000   0.000000  0.000000  ...  24.000000  24.000000  24.000000   \n",
       "pres   7.000000   8.000000  9.000000  ...  15.000000  16.000000  17.000000   \n",
       "count  6.000000  23.000000  1.000000  ...   0.000000   1.000000   2.000000   \n",
       "score  0.098505   0.055031  0.094305  ...   0.127274   0.097144   0.111584   \n",
       "\n",
       "             618        619        620        621       622       623  \\\n",
       "past   24.000000  24.000000  24.000000  24.000000  24.00000  24.00000   \n",
       "pres   18.000000  19.000000  20.000000  21.000000  22.00000  23.00000   \n",
       "count   4.000000   3.000000   0.000000   4.000000   0.00000   2.00000   \n",
       "score   0.095678   0.091891   0.101373   0.111027   0.07804   0.10007   \n",
       "\n",
       "             624  \n",
       "past   24.000000  \n",
       "pres   24.000000  \n",
       "count   6.000000  \n",
       "score   0.097415  \n",
       "\n",
       "[4 rows x 625 columns]"
      ]
     },
     "execution_count": 6,
     "metadata": {},
     "output_type": "execute_result"
    }
   ],
   "source": [
    "# Saving topic combination\n",
    "combine_df = pd.read_csv('data/combination.csv')\n",
    "combine_df.T.head()"
   ]
  },
  {
   "cell_type": "markdown",
   "metadata": {},
   "source": [
    "# Training model with past dataset"
   ]
  },
  {
   "cell_type": "markdown",
   "metadata": {},
   "source": [
    "## Split train-test data"
   ]
  },
  {
   "cell_type": "code",
   "execution_count": 7,
   "metadata": {
    "ExecuteTime": {
     "end_time": "2020-11-02T12:46:40.628785Z",
     "start_time": "2020-11-02T12:46:40.108495Z"
    }
   },
   "outputs": [],
   "source": [
    "from sklearn.model_selection import train_test_split\n",
    "\n",
    "topic_cols = ['past_{:02d}'.format(i) for i in range(no_topics)]\n",
    "\n",
    "# Breaking features and classes\n",
    "X = past_df[['text']]\n",
    "y = past_labels[topic_cols]\n",
    "\n",
    "# Splitting train test datasets\n",
    "X_train, X_test, y_train, y_test = train_test_split(X, y, test_size=0.3, random_state=100)"
   ]
  },
  {
   "cell_type": "markdown",
   "metadata": {},
   "source": [
    "## Vectorization"
   ]
  },
  {
   "cell_type": "markdown",
   "metadata": {
    "heading_collapsed": true
   },
   "source": [
    "### Bag of Words"
   ]
  },
  {
   "cell_type": "code",
   "execution_count": 8,
   "metadata": {
    "ExecuteTime": {
     "end_time": "2020-11-02T12:46:45.086344Z",
     "start_time": "2020-11-02T12:46:40.631278Z"
    },
    "hidden": true
   },
   "outputs": [],
   "source": [
    "from sklearn.feature_extraction.text import CountVectorizer\n",
    "\n",
    "bow_vectorizer = CountVectorizer(vocabulary=past_vocabulary)\n",
    "\n",
    "bow_corpus_train = bow_vectorizer.fit_transform(X_train['text'])\n",
    "bow_corpus_test = bow_vectorizer.transform(X_test['text'])\n",
    "\n",
    "bow_corpus_cv = CountVectorizer(vocabulary=past_vocabulary).fit_transform(X['text'])"
   ]
  },
  {
   "cell_type": "code",
   "execution_count": 9,
   "metadata": {
    "ExecuteTime": {
     "end_time": "2020-11-02T12:46:45.094372Z",
     "start_time": "2020-11-02T12:46:45.090755Z"
    },
    "hidden": true
   },
   "outputs": [],
   "source": [
    "assert len(bow_vectorizer.vocabulary_) == len(past_vocabulary)"
   ]
  },
  {
   "cell_type": "markdown",
   "metadata": {
    "heading_collapsed": true
   },
   "source": [
    "### Term Frequency - Inverse Document Frequency"
   ]
  },
  {
   "cell_type": "code",
   "execution_count": 10,
   "metadata": {
    "ExecuteTime": {
     "end_time": "2020-11-02T12:46:49.684957Z",
     "start_time": "2020-11-02T12:46:45.097880Z"
    },
    "hidden": true
   },
   "outputs": [],
   "source": [
    "from sklearn.feature_extraction.text import TfidfVectorizer\n",
    "\n",
    "tfidf_vectorizer = TfidfVectorizer(vocabulary=past_vocabulary)\n",
    "\n",
    "tfidf_corpus_train = tfidf_vectorizer.fit_transform(X_train['text'])\n",
    "tfidf_corpus_test = tfidf_vectorizer.transform(X_test['text'])\n",
    "\n",
    "tfidf_corpus_cv = TfidfVectorizer(vocabulary=past_vocabulary).fit_transform(X['text'])"
   ]
  },
  {
   "cell_type": "code",
   "execution_count": 11,
   "metadata": {
    "ExecuteTime": {
     "end_time": "2020-11-02T12:46:49.691450Z",
     "start_time": "2020-11-02T12:46:49.687391Z"
    },
    "hidden": true
   },
   "outputs": [],
   "source": [
    "assert len(tfidf_vectorizer.vocabulary_) == len(past_vocabulary)"
   ]
  },
  {
   "cell_type": "markdown",
   "metadata": {},
   "source": [
    "### Word2Vec"
   ]
  },
  {
   "cell_type": "code",
   "execution_count": 12,
   "metadata": {
    "ExecuteTime": {
     "end_time": "2020-11-02T12:46:49.788895Z",
     "start_time": "2020-11-02T12:46:49.694341Z"
    }
   },
   "outputs": [],
   "source": [
    "# from gensim.models import KeyedVectors\n",
    "# import numpy as np\n",
    "\n",
    "# word2vec_path = \"../../assets/embeddings/GoogleNews-vectors-negative300.bin.gz\"\n",
    "# word2vec = KeyedVectors.load_word2vec_format(word2vec_path, binary=True)"
   ]
  },
  {
   "cell_type": "code",
   "execution_count": 13,
   "metadata": {
    "ExecuteTime": {
     "end_time": "2020-11-02T12:46:49.942404Z",
     "start_time": "2020-11-02T12:46:49.795001Z"
    }
   },
   "outputs": [],
   "source": [
    "# vocabulary = past_vocabulary\n",
    "# not_in = []\n",
    "\n",
    "# count = 0\n",
    "# for word in vocabulary:\n",
    "#     if word in word2vec:\n",
    "#         count += 1 #word in word2vec\n",
    "#     else:\n",
    "#         not_in.append(word)\n",
    "# print('Word2vec covers {} / {} words: {:.2%}'.format(\n",
    "#     count, \n",
    "#     len(vocabulary), \n",
    "#     count/len(vocabulary))\n",
    "# )"
   ]
  },
  {
   "cell_type": "code",
   "execution_count": 14,
   "metadata": {
    "ExecuteTime": {
     "end_time": "2020-11-02T12:46:50.021345Z",
     "start_time": "2020-11-02T12:46:49.945346Z"
    }
   },
   "outputs": [],
   "source": [
    "# def get_average_word2vec(tokens_list, vector, generate_missing=False, k=300):\n",
    "#     if len(tokens_list)<1:\n",
    "#         return np.zeros(k)\n",
    "    \n",
    "#     if generate_missing:\n",
    "#         vectorized = [vector[word] if word in vector else np.random.rand(k) for word in tokens_list]\n",
    "#     else:\n",
    "#         vectorized = [vector[word] if word in vector else np.zeros(k) for word in tokens_list]\n",
    "        \n",
    "#     length = len(vectorized)\n",
    "#     summed = np.sum(vectorized, axis=0)\n",
    "#     averaged = np.divide(summed, length)\n",
    "#     return averaged\n",
    "\n",
    "# def get_word2vec_embeddings(vectors, corpus, generate_missing=False):\n",
    "#     clean_questions = corpus.apply(lambda x: x.split(' '))\n",
    "    \n",
    "#     embeddings = clean_questions.apply(lambda x: get_average_word2vec(x, vectors, \n",
    "#                                                                                 generate_missing=generate_missing))\n",
    "#     return list(embeddings)"
   ]
  },
  {
   "cell_type": "code",
   "execution_count": 15,
   "metadata": {
    "ExecuteTime": {
     "end_time": "2020-11-02T12:46:50.140018Z",
     "start_time": "2020-11-02T12:46:50.026493Z"
    }
   },
   "outputs": [],
   "source": [
    "# word2vec_corpus_train = get_word2vec_embeddings(word2vec, X_train['text'])\n",
    "# word2vec_corpus_test = get_word2vec_embeddings(word2vec, X_test['text'])\n",
    "# word2vec_corpus_cv = get_word2vec_embeddings(word2vec, X['text'])"
   ]
  },
  {
   "cell_type": "code",
   "execution_count": 16,
   "metadata": {
    "ExecuteTime": {
     "end_time": "2020-11-02T12:46:50.220488Z",
     "start_time": "2020-11-02T12:46:50.142028Z"
    }
   },
   "outputs": [],
   "source": [
    "# del word2vec"
   ]
  },
  {
   "cell_type": "markdown",
   "metadata": {},
   "source": [
    "## Model Selection"
   ]
  },
  {
   "cell_type": "code",
   "execution_count": 17,
   "metadata": {
    "ExecuteTime": {
     "end_time": "2020-11-02T12:46:50.326945Z",
     "start_time": "2020-11-02T12:46:50.226528Z"
    }
   },
   "outputs": [],
   "source": [
    "from sklearn.metrics import accuracy_score, f1_score, precision_score, recall_score\n",
    "from sklearn.model_selection import StratifiedKFold, GridSearchCV\n",
    "from tqdm import tqdm\n",
    "\n",
    "def evaluate_models(model_func, params, X_dataset, label):\n",
    "\n",
    "    scores = {'Train':[], 'Test':[]}\n",
    "\n",
    "    pbar = tqdm(topic_cols)\n",
    "    for topic in pbar:\n",
    "        pbar.set_description(label.ljust(15))    \n",
    "\n",
    "        # Auxiliar vectors for scores\n",
    "        train_scores = []\n",
    "        test_scores = []\n",
    "\n",
    "        # K-Fold definition\n",
    "        skf = StratifiedKFold(n_splits=10)    \n",
    "\n",
    "        y_dataset = y[topic]\n",
    "        for train_index, test_index in skf.split(X_dataset, y_dataset):\n",
    "            X_train, X_test = X_dataset[train_index], X_dataset[test_index]\n",
    "            y_train, y_test = y_dataset[train_index], y_dataset[test_index]\n",
    "\n",
    "            model = model_func(**params)\n",
    "\n",
    "            model.fit(X_train, y_train)\n",
    "            y_pred_train = model.predict(X_train)\n",
    "            y_pred_test = model.predict(X_test)\n",
    "\n",
    "            train_scores.append({\n",
    "                'Accuracy': accuracy_score(y_train, y_pred_train),\n",
    "                'Precision': precision_score(y_train, y_pred_train),\n",
    "                'Recall': recall_score(y_train, y_pred_train),\n",
    "                'F1': f1_score(y_train, y_pred_train),\n",
    "            })\n",
    "\n",
    "            test_scores.append({\n",
    "                'Accuracy': accuracy_score(y_test, y_pred_test), \n",
    "                'Precision': precision_score(y_test, y_pred_test),\n",
    "                'Recall': recall_score(y_test, y_pred_test),\n",
    "                'F1': f1_score(y_test, y_pred_test),\n",
    "            })\n",
    "\n",
    "        scores['Train'].append(pd.DataFrame(train_scores).mean().to_dict())\n",
    "        scores['Test'].append(pd.DataFrame(test_scores).mean().to_dict())\n",
    "\n",
    "    for k in scores.keys():\n",
    "        scores[k] = pd.DataFrame(scores[k], index=topic_cols).add_suffix(' '+k)\n",
    "\n",
    "    scores_df = pd.concat([v for v in scores.values()], axis=1)\n",
    "\n",
    "    s = pd.Series(['{}'.format(col[-2:]) for col in topic_cols])\n",
    "\n",
    "    # Saving results - csv\n",
    "    scores_df.to_csv(f'latex/{label}.csv')\n",
    "\n",
    "    # Saving results - latex\n",
    "    with open(f'latex/{label}.tex', 'w') as f:\n",
    "        f.write(scores_df[['Precision Train', 'Precision Test', 'Recall Train', 'Recall Test', 'F1 Train', 'F1 Test']].set_index(s).round(3).to_latex())\n",
    "    \n",
    "    return scores_df"
   ]
  },
  {
   "cell_type": "code",
   "execution_count": 18,
   "metadata": {
    "ExecuteTime": {
     "end_time": "2020-11-02T12:46:50.445025Z",
     "start_time": "2020-11-02T12:46:50.329236Z"
    }
   },
   "outputs": [],
   "source": [
    "from sklearn.linear_model import LogisticRegression\n",
    "from sklearn.naive_bayes import MultinomialNB\n",
    "from sklearn.svm import SVC\n",
    "\n",
    "models = [\n",
    "#     {\n",
    "#         'model_func': MultinomialNB, \n",
    "#         'params': {'alpha': 0.1}, \n",
    "#         'X_dataset': bow_corpus_cv, \n",
    "#         'label': 'bow-nb'\n",
    "#     },\n",
    "#     {\n",
    "#         'model_func': MultinomialNB, \n",
    "#         'params': {'alpha': 0.1}, \n",
    "#         'X_dataset': tfidf_corpus_cv, \n",
    "#         'label': 'tfidf-nb'\n",
    "#     },\n",
    "#     {\n",
    "#         'model_func': SVC, \n",
    "#         'params': {'C':1.5, 'kernel': 'rbf', 'gamma': 'auto'},\n",
    "#         'X_dataset': bow_corpus_cv, \n",
    "#         'label': 'bow-svm'\n",
    "#     },\n",
    "#     {\n",
    "#         'model_func': SVC,\n",
    "#         'params': {'C':1.5, 'kernel': 'rbf', 'gamma': 'auto'},\n",
    "#         'X_dataset': tfidf_corpus_cv, \n",
    "#         'label': 'tfidf-svm-ok-2'\n",
    "#     }, \n",
    "#     {\n",
    "#         'model_func': SVC,\n",
    "#         'params': {'C':1.0, 'kernel': 'linear', 'gamma': 'auto'},\n",
    "#         'X_dataset': np.array(word2vec_corpus_cv), \n",
    "#         'label': 'word2vec-svm-2'\n",
    "#     }, \n",
    "    {\n",
    "        'model_func': LogisticRegression,\n",
    "        'params': {},\n",
    "        'X_dataset': bow_corpus_cv, \n",
    "        'label': 'logreg-bow'\n",
    "    }, \n",
    "    {\n",
    "        'model_func': LogisticRegression,\n",
    "        'params': {},\n",
    "        'X_dataset': tfidf_corpus_cv, \n",
    "        'label': 'logreg-tfidf'\n",
    "    }, \n",
    "]"
   ]
  },
  {
   "cell_type": "code",
   "execution_count": 19,
   "metadata": {
    "ExecuteTime": {
     "end_time": "2020-11-02T12:56:45.791966Z",
     "start_time": "2020-11-02T12:46:50.447200Z"
    }
   },
   "outputs": [
    {
     "name": "stderr",
     "output_type": "stream",
     "text": [
      "logreg-bow     : 100%|██████████| 25/25 [07:19<00:00, 17.57s/it]\n",
      "logreg-tfidf   : 100%|██████████| 25/25 [02:35<00:00,  6.23s/it]\n"
     ]
    }
   ],
   "source": [
    "scores = {}\n",
    "for model in models:\n",
    "    scores[model['label']] = evaluate_models(**model)"
   ]
  },
  {
   "cell_type": "code",
   "execution_count": 20,
   "metadata": {
    "ExecuteTime": {
     "end_time": "2020-11-02T12:56:45.857459Z",
     "start_time": "2020-11-02T12:56:45.796563Z"
    }
   },
   "outputs": [
    {
     "data": {
      "text/html": [
       "<div>\n",
       "<style scoped>\n",
       "    .dataframe tbody tr th:only-of-type {\n",
       "        vertical-align: middle;\n",
       "    }\n",
       "\n",
       "    .dataframe tbody tr th {\n",
       "        vertical-align: top;\n",
       "    }\n",
       "\n",
       "    .dataframe thead th {\n",
       "        text-align: right;\n",
       "    }\n",
       "</style>\n",
       "<table border=\"1\" class=\"dataframe\">\n",
       "  <thead>\n",
       "    <tr style=\"text-align: right;\">\n",
       "      <th></th>\n",
       "      <th>Accuracy Train</th>\n",
       "      <th>Precision Train</th>\n",
       "      <th>Recall Train</th>\n",
       "      <th>F1 Train</th>\n",
       "      <th>Accuracy Test</th>\n",
       "      <th>Precision Test</th>\n",
       "      <th>Recall Test</th>\n",
       "      <th>F1 Test</th>\n",
       "    </tr>\n",
       "  </thead>\n",
       "  <tbody>\n",
       "    <tr>\n",
       "      <th>logreg-bow</th>\n",
       "      <td>0.999898</td>\n",
       "      <td>1.000000</td>\n",
       "      <td>0.999557</td>\n",
       "      <td>0.999778</td>\n",
       "      <td>0.943919</td>\n",
       "      <td>0.824625</td>\n",
       "      <td>0.690954</td>\n",
       "      <td>0.741612</td>\n",
       "    </tr>\n",
       "    <tr>\n",
       "      <th>logreg-tfidf</th>\n",
       "      <td>0.944140</td>\n",
       "      <td>0.867265</td>\n",
       "      <td>0.472502</td>\n",
       "      <td>0.589117</td>\n",
       "      <td>0.922585</td>\n",
       "      <td>0.783026</td>\n",
       "      <td>0.370281</td>\n",
       "      <td>0.482277</td>\n",
       "    </tr>\n",
       "  </tbody>\n",
       "</table>\n",
       "</div>"
      ],
      "text/plain": [
       "              Accuracy Train  Precision Train  Recall Train  F1 Train  \\\n",
       "logreg-bow          0.999898         1.000000      0.999557  0.999778   \n",
       "logreg-tfidf        0.944140         0.867265      0.472502  0.589117   \n",
       "\n",
       "              Accuracy Test  Precision Test  Recall Test   F1 Test  \n",
       "logreg-bow         0.943919        0.824625     0.690954  0.741612  \n",
       "logreg-tfidf       0.922585        0.783026     0.370281  0.482277  "
      ]
     },
     "execution_count": 20,
     "metadata": {},
     "output_type": "execute_result"
    }
   ],
   "source": [
    "index = []\n",
    "agg_scores = []\n",
    "\n",
    "for k, v in scores.items():\n",
    "    index.append(k)\n",
    "    agg_scores.append(v.mean().to_dict())\n",
    "    \n",
    "df = pd.DataFrame(agg_scores, index=index)\n",
    "\n",
    "df.to_csv('latex/logreg-results.csv')\n",
    "with open(f'latex/logreg-results.tex', 'w') as f:\n",
    "    f.write(df[['Precision Test', 'Recall Test', 'F1 Test']].round(3).to_latex())\n",
    "\n",
    "df"
   ]
  }
 ],
 "metadata": {
  "kernelspec": {
   "display_name": "Python 3",
   "language": "python",
   "name": "python3"
  },
  "language_info": {
   "codemirror_mode": {
    "name": "ipython",
    "version": 3
   },
   "file_extension": ".py",
   "mimetype": "text/x-python",
   "name": "python",
   "nbconvert_exporter": "python",
   "pygments_lexer": "ipython3",
   "version": "3.8.5"
  },
  "toc": {
   "base_numbering": 1,
   "nav_menu": {},
   "number_sections": true,
   "sideBar": true,
   "skip_h1_title": false,
   "title_cell": "Table of Contents",
   "title_sidebar": "Contents",
   "toc_cell": false,
   "toc_position": {
    "height": "calc(100% - 180px)",
    "left": "10px",
    "top": "150px",
    "width": "303.542px"
   },
   "toc_section_display": true,
   "toc_window_display": true
  },
  "varInspector": {
   "cols": {
    "lenName": 16,
    "lenType": 16,
    "lenVar": 40
   },
   "kernels_config": {
    "python": {
     "delete_cmd_postfix": "",
     "delete_cmd_prefix": "del ",
     "library": "var_list.py",
     "varRefreshCmd": "print(var_dic_list())"
    },
    "r": {
     "delete_cmd_postfix": ") ",
     "delete_cmd_prefix": "rm(",
     "library": "var_list.r",
     "varRefreshCmd": "cat(var_dic_list()) "
    }
   },
   "types_to_exclude": [
    "module",
    "function",
    "builtin_function_or_method",
    "instance",
    "_Feature"
   ],
   "window_display": false
  }
 },
 "nbformat": 4,
 "nbformat_minor": 4
}
