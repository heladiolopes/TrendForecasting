{
 "cells": [
  {
   "cell_type": "markdown",
   "metadata": {},
   "source": [
    "# Initial configuration"
   ]
  },
  {
   "cell_type": "code",
   "execution_count": 1,
   "metadata": {
    "ExecuteTime": {
     "end_time": "2020-10-14T13:14:48.561551Z",
     "start_time": "2020-10-14T13:14:48.557884Z"
    }
   },
   "outputs": [],
   "source": [
    "import os\n",
    "\n",
    "base_path = \"../assets/data/nips\"\n",
    "\n",
    "raw_file = os.path.join(os.path.join(base_path, \"papers.csv.zip\"))\n",
    "transaction_file = os.path.abspath(os.path.join(base_path, \"transaction/papers.csv\"))"
   ]
  },
  {
   "cell_type": "markdown",
   "metadata": {},
   "source": [
    "## Text Cleaner Functions"
   ]
  },
  {
   "cell_type": "code",
   "execution_count": 2,
   "metadata": {
    "ExecuteTime": {
     "end_time": "2020-10-14T13:14:50.195878Z",
     "start_time": "2020-10-14T13:14:50.153975Z"
    }
   },
   "outputs": [],
   "source": [
    "from unidecode import unidecode\n",
    "import contractions\n",
    "import inflect\n",
    "import string\n",
    "import re\n",
    "\n",
    "def to_lower(sentence: str):\n",
    "    return sentence.lower()\n",
    "\n",
    "def number_to_text(sentence: str):\n",
    "    p = inflect.engine()\n",
    "    numbers = re.finditer(r'\\d+', sentence)\n",
    "    for x in reversed([x for x in numbers]):\n",
    "        number = sentence[x.start():x.end()]\n",
    "\n",
    "        if number.isdigit():\n",
    "            word = p.number_to_words(number)\n",
    "            sentence = sentence[:x.start()] + word + sentence[x.end():]\n",
    "    return sentence\n",
    "\n",
    "def remove_numbers(sentence: str):\n",
    "    return re.sub(r'\\d+', '', sentence)\n",
    "\n",
    "def remove_punctuation(sentence: str, keep_final:bool=False):\n",
    "    PUNCTUATION = string.punctuation\n",
    "    if keep_final:\n",
    "        PUNCTUATION = PUNCTUATION.replace(\".\", \"\")\n",
    "            \n",
    "    translator = str.maketrans(PUNCTUATION, \" \"*len(PUNCTUATION))\n",
    "    return sentence.translate(translator)\n",
    "\n",
    "def remove_whitespaces(sentence: str):\n",
    "    return \" \".join(sentence.split())\n",
    "\n",
    "def expand_contractions(sentence: str):\n",
    "    return contractions.fix(sentence)\n",
    "\n",
    "def special_characters_to_ascii(sentence: str):\n",
    "    return unidecode(sentence)\n",
    "\n",
    "def drop_links(sentence: str):\n",
    "    return re.sub(r\"http\\S+\", \"\", sentence)"
   ]
  },
  {
   "cell_type": "code",
   "execution_count": 4,
   "metadata": {
    "ExecuteTime": {
     "end_time": "2020-10-14T13:14:52.293616Z",
     "start_time": "2020-10-14T13:14:52.286622Z"
    }
   },
   "outputs": [],
   "source": [
    "def standardize(sentence:str, convert_numbers:bool=True, keep_final:bool=False):\n",
    "    # Drop urls\n",
    "    sentence = drop_links(sentence)\n",
    "\n",
    "    # Treat number converting to text or/and removing\n",
    "    if convert_numbers:\n",
    "        sentence = number_to_text(sentence)\n",
    "    sentence = remove_numbers(sentence)  # if convert mode drop the eventual remain\n",
    "    \n",
    "    # Expand contractions\n",
    "    sentence = expand_contractions(sentence)\n",
    "\n",
    "    # Remove punctuation\n",
    "    sentence = remove_punctuation(sentence, keep_final)\n",
    "\n",
    "    # Convert special characters\n",
    "    sentence = special_characters_to_ascii(sentence)\n",
    "\n",
    "    # Normalizing case\n",
    "    sentence = to_lower(sentence)\n",
    "\n",
    "    # Remove extra whitespaces\n",
    "    sentence = remove_whitespaces(sentence)\n",
    "\n",
    "    return sentence"
   ]
  },
  {
   "cell_type": "markdown",
   "metadata": {
    "ExecuteTime": {
     "end_time": "2020-09-23T00:46:41.302954Z",
     "start_time": "2020-09-23T00:46:41.300434Z"
    }
   },
   "source": [
    "## Remove Stopwords and Lemmatize"
   ]
  },
  {
   "cell_type": "code",
   "execution_count": 5,
   "metadata": {
    "ExecuteTime": {
     "end_time": "2020-10-14T13:14:55.985671Z",
     "start_time": "2020-10-14T13:14:54.195733Z"
    }
   },
   "outputs": [],
   "source": [
    "import spacy\n",
    "import gensim\n",
    "from gensim.utils import simple_preprocess\n",
    "from nltk.corpus import stopwords\n",
    "\n",
    "# Stop words base list\n",
    "stop_words = stopwords.words('english')\n",
    "\n",
    "# Initialize spacy 'en' model, keeping only tagger component (for efficiency)\n",
    "# nlp = spacy.load(\"en\", disable=['parser', 'ner'])\n",
    "nlp = spacy.load(\"en_core_web_sm\", disable=['parser', 'ner'])\n",
    "\n",
    "def tokenize(sentence: str):\n",
    "#     return gensim.utils.simple_preprocess(str(sentence), deacc=True)\n",
    "    return sentence.split(\" \")\n",
    "\n",
    "def remove_stopwords(tokens, stop_words=stop_words):\n",
    "    return [word for word in tokens if word not in stop_words and len(word) > 3]\n",
    "\n",
    "def lemmatization(tokens, allowed_postags=['NOUN', 'ADJ', 'VERB', 'ADV']):\n",
    "    \"\"\"https://spacy.io/api/annotation\"\"\"\n",
    "    doc = nlp(\" \".join(tokens))\n",
    "#     return [token.lemma_ for token in doc if token.pos_ in allowed_postags]\n",
    "    return [token.lemma_ for token in doc if token.lemma_ != \"-PRON-\"]"
   ]
  },
  {
   "cell_type": "markdown",
   "metadata": {},
   "source": [
    "## Other auxiliars functions"
   ]
  },
  {
   "cell_type": "code",
   "execution_count": null,
   "metadata": {
    "ExecuteTime": {
     "end_time": "2020-09-23T01:17:30.895298Z",
     "start_time": "2020-09-23T01:17:30.891437Z"
    }
   },
   "outputs": [],
   "source": [
    "# def save_dataframe(df: pd.DataFrame, filename):   \n",
    "#     if os.path.exists(filename):\n",
    "#         df.to_csv(filename, index=False, mode='a', header=False)\n",
    "#     else:\n",
    "#         df.to_csv(filename, index=False)"
   ]
  },
  {
   "cell_type": "markdown",
   "metadata": {},
   "source": [
    "# Transactional data"
   ]
  },
  {
   "cell_type": "code",
   "execution_count": 22,
   "metadata": {
    "ExecuteTime": {
     "end_time": "2020-10-14T13:26:02.478639Z",
     "start_time": "2020-10-14T13:26:01.488280Z"
    }
   },
   "outputs": [
    {
     "name": "stderr",
     "output_type": "stream",
     "text": [
      "0it [00:00, ?it/s]\n"
     ]
    },
    {
     "ename": "NameError",
     "evalue": "name 'save_dataframe' is not defined",
     "output_type": "error",
     "traceback": [
      "\u001b[0;31m---------------------------------------------------------------------------\u001b[0m",
      "\u001b[0;31mNameError\u001b[0m                                 Traceback (most recent call last)",
      "\u001b[0;32m<ipython-input-22-2c23acac8cc4>\u001b[0m in \u001b[0;36m<module>\u001b[0;34m\u001b[0m\n\u001b[1;32m     53\u001b[0m \u001b[0;34m\u001b[0m\u001b[0m\n\u001b[1;32m     54\u001b[0m     \u001b[0;31m# Save transactional data\u001b[0m\u001b[0;34m\u001b[0m\u001b[0;34m\u001b[0m\u001b[0;34m\u001b[0m\u001b[0m\n\u001b[0;32m---> 55\u001b[0;31m     \u001b[0msave_dataframe\u001b[0m\u001b[0;34m(\u001b[0m\u001b[0mdf\u001b[0m\u001b[0;34m,\u001b[0m \u001b[0mtransaction_file\u001b[0m\u001b[0;34m)\u001b[0m\u001b[0;34m\u001b[0m\u001b[0;34m\u001b[0m\u001b[0m\n\u001b[0m",
      "\u001b[0;31mNameError\u001b[0m: name 'save_dataframe' is not defined"
     ]
    }
   ],
   "source": [
    "import pandas as pd\n",
    "from tqdm import tqdm\n",
    "\n",
    "CHUNKSIZE = 500\n",
    "\n",
    "# Import dataframe into chunks\n",
    "chunks = pd.read_csv(\n",
    "    raw_file, \n",
    "    compression=\"zip\",\n",
    "    usecols=[\"id\", \"year\", \"title\", \"abstract\", \"paper_text\"],\n",
    "    chunksize=CHUNKSIZE)\n",
    "\n",
    "for df in tqdm(chunks):\n",
    "    \n",
    "    # Clean missing abstract\n",
    "    df.loc[df.abstract == \"Abstract Missing\", \"abstract\"] = \"\"\n",
    "\n",
    "    # Fill na with empty\n",
    "    df[\"title\"] = df[\"title\"].fillna(\"\")\n",
    "    df[\"abstract\"] = df[\"abstract\"].fillna(\"\")  \n",
    "    df[\"paper_text\"] = df[\"paper_text\"].fillna(\"\")  \n",
    "\n",
    "    # Generating transactional data\n",
    "    df[\"abstract\"] = df[\"abstract\"].str.split(\".\")\n",
    "    df[\"paper_text\"] = df[\"paper_text\"].str.split(\".\")\n",
    "\n",
    "    # Add title as a single transaction\n",
    "    df['text'] = df.apply(lambda row: [row['title']] + row['abstract'] + row[\"paper_text\"], axis=1)\n",
    "    df = df.drop(labels=['title', 'abstract', 'paper_text'], axis=1)\n",
    "\n",
    "    # Expand text columns by lis elements\n",
    "    df = df.explode(\"text\").reset_index(drop=True)\n",
    "\n",
    "    # Clean text columns\n",
    "    df['text'] = df['text'].apply(standardize, convert_numbers=False)\n",
    "\n",
    "    # Tokenize text\n",
    "    df[\"tokens\"] = df['text'].apply(tokenize)\n",
    "\n",
    "    # Lemmatize\n",
    "    df[\"tokens\"] = df[\"tokens\"].apply(lemmatization)\n",
    "\n",
    "    # Removing stop words\n",
    "    df[\"tokens\"] = df[\"tokens\"].apply(remove_stopwords)\n",
    "\n",
    "    # Drop empty transactions\n",
    "    df = df[df[\"tokens\"].apply(len) > 0]\n",
    "\n",
    "    # Put in text again\n",
    "    df[\"text\"] = df[\"tokens\"].apply(lambda x: \" \".join(x))\n",
    "    df = df.drop(labels=['tokens'], axis=1)\n",
    "\n",
    "    # Save transactional data\n",
    "    save_dataframe(df, transaction_file)"
   ]
  },
  {
   "cell_type": "code",
   "execution_count": null,
   "metadata": {
    "ExecuteTime": {
     "end_time": "2020-09-23T11:29:42.103229Z",
     "start_time": "2020-09-23T11:29:37.436621Z"
    }
   },
   "outputs": [],
   "source": [
    "!mpg123 /home/heladio/Downloads/piseiro.mp3"
   ]
  }
 ],
 "metadata": {
  "kernelspec": {
   "display_name": "Python 3",
   "language": "python",
   "name": "python3"
  },
  "language_info": {
   "codemirror_mode": {
    "name": "ipython",
    "version": 3
   },
   "file_extension": ".py",
   "mimetype": "text/x-python",
   "name": "python",
   "nbconvert_exporter": "python",
   "pygments_lexer": "ipython3",
   "version": "3.8.5"
  },
  "toc": {
   "base_numbering": 1,
   "nav_menu": {},
   "number_sections": true,
   "sideBar": true,
   "skip_h1_title": false,
   "title_cell": "Table of Contents",
   "title_sidebar": "Contents",
   "toc_cell": false,
   "toc_position": {},
   "toc_section_display": true,
   "toc_window_display": false
  },
  "varInspector": {
   "cols": {
    "lenName": 16,
    "lenType": 16,
    "lenVar": 40
   },
   "kernels_config": {
    "python": {
     "delete_cmd_postfix": "",
     "delete_cmd_prefix": "del ",
     "library": "var_list.py",
     "varRefreshCmd": "print(var_dic_list())"
    },
    "r": {
     "delete_cmd_postfix": ") ",
     "delete_cmd_prefix": "rm(",
     "library": "var_list.r",
     "varRefreshCmd": "cat(var_dic_list()) "
    }
   },
   "types_to_exclude": [
    "module",
    "function",
    "builtin_function_or_method",
    "instance",
    "_Feature"
   ],
   "window_display": false
  }
 },
 "nbformat": 4,
 "nbformat_minor": 4
}
